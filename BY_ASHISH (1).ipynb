{
  "cells": [
    {
      "cell_type": "code",
      "execution_count": 1,
      "metadata": {
        "colab": {
          "base_uri": "https://localhost:8080/"
        },
        "id": "nqaBM5F_zCRA",
        "outputId": "85daf4c3-49d0-4713-b1d2-c1ae024319c0"
      },
      "outputs": [
        {
          "output_type": "stream",
          "name": "stdout",
          "text": [
            "\u001b[2K     \u001b[90m━━━━━━━━━━━━━━━━━━━━━━━━━━━━━━━━━━━━━━\u001b[0m \u001b[32m577.3/577.3 KB\u001b[0m \u001b[31m11.5 MB/s\u001b[0m eta \u001b[36m0:00:00\u001b[0m\n",
            "\u001b[2K     \u001b[90m━━━━━━━━━━━━━━━━━━━━━━━━━━━━━━━━━━━━━━━━\u001b[0m \u001b[32m10.9/10.9 MB\u001b[0m \u001b[31m90.8 MB/s\u001b[0m eta \u001b[36m0:00:00\u001b[0m\n",
            "\u001b[2K     \u001b[90m━━━━━━━━━━━━━━━━━━━━━━━━━━━━━━━━━━━━━━━━\u001b[0m \u001b[32m60.8/60.8 MB\u001b[0m \u001b[31m13.9 MB/s\u001b[0m eta \u001b[36m0:00:00\u001b[0m\n",
            "\u001b[2K     \u001b[90m━━━━━━━━━━━━━━━━━━━━━━━━━━━━━━━━━━━━━━━━\u001b[0m \u001b[32m3.4/3.4 MB\u001b[0m \u001b[31m55.1 MB/s\u001b[0m eta \u001b[36m0:00:00\u001b[0m\n",
            "\u001b[2K     \u001b[90m━━━━━━━━━━━━━━━━━━━━━━━━━━━━━━━━━━━━━━━━\u001b[0m \u001b[32m77.5/77.5 KB\u001b[0m \u001b[31m9.7 MB/s\u001b[0m eta \u001b[36m0:00:00\u001b[0m\n",
            "\u001b[2K     \u001b[90m━━━━━━━━━━━━━━━━━━━━━━━━━━━━━━━━━━━━━━━\u001b[0m \u001b[32m10.3/10.3 MB\u001b[0m \u001b[31m106.4 MB/s\u001b[0m eta \u001b[36m0:00:00\u001b[0m\n",
            "\u001b[2K     \u001b[90m━━━━━━━━━━━━━━━━━━━━━━━━━━━━━━━━━━━━━━━━\u001b[0m \u001b[32m1.1/1.1 MB\u001b[0m \u001b[31m74.6 MB/s\u001b[0m eta \u001b[36m0:00:00\u001b[0m\n",
            "\u001b[2K     \u001b[90m━━━━━━━━━━━━━━━━━━━━━━━━━━━━━━━━━━━━━━\u001b[0m \u001b[32m238.9/238.9 KB\u001b[0m \u001b[31m32.3 MB/s\u001b[0m eta \u001b[36m0:00:00\u001b[0m\n",
            "\u001b[2K     \u001b[90m━━━━━━━━━━━━━━━━━━━━━━━━━━━━━━━━━━━━━━\u001b[0m \u001b[32m840.9/840.9 KB\u001b[0m \u001b[31m62.8 MB/s\u001b[0m eta \u001b[36m0:00:00\u001b[0m\n",
            "\u001b[2K     \u001b[90m━━━━━━━━━━━━━━━━━━━━━━━━━━━━━━━━━━━━━━━━\u001b[0m \u001b[32m1.3/1.3 MB\u001b[0m \u001b[31m82.6 MB/s\u001b[0m eta \u001b[36m0:00:00\u001b[0m\n",
            "\u001b[2K     \u001b[90m━━━━━━━━━━━━━━━━━━━━━━━━━━━━━━━━━━━━━━━━\u001b[0m \u001b[32m88.3/88.3 KB\u001b[0m \u001b[31m12.0 MB/s\u001b[0m eta \u001b[36m0:00:00\u001b[0m\n",
            "\u001b[?25h  Preparing metadata (setup.py) ... \u001b[?25l\u001b[?25hdone\n",
            "\u001b[2K     \u001b[90m━━━━━━━━━━━━━━━━━━━━━━━━━━━━━━━━━━━━━━\u001b[0m \u001b[32m128.6/128.6 KB\u001b[0m \u001b[31m17.5 MB/s\u001b[0m eta \u001b[36m0:00:00\u001b[0m\n",
            "\u001b[2K     \u001b[90m━━━━━━━━━━━━━━━━━━━━━━━━━━━━━━━━━━━━━━━━\u001b[0m \u001b[32m25.3/25.3 MB\u001b[0m \u001b[31m35.0 MB/s\u001b[0m eta \u001b[36m0:00:00\u001b[0m\n",
            "\u001b[2K     \u001b[90m━━━━━━━━━━━━━━━━━━━━━━━━━━━━━━━━━━━━━━━\u001b[0m \u001b[32m498.0/498.0 MB\u001b[0m \u001b[31m3.3 MB/s\u001b[0m eta \u001b[36m0:00:00\u001b[0m\n",
            "\u001b[2K     \u001b[90m━━━━━━━━━━━━━━━━━━━━━━━━━━━━━━━━━━━━━━\u001b[0m \u001b[32m352.1/352.1 KB\u001b[0m \u001b[31m37.6 MB/s\u001b[0m eta \u001b[36m0:00:00\u001b[0m\n",
            "\u001b[2K     \u001b[90m━━━━━━━━━━━━━━━━━━━━━━━━━━━━━━━━━━━━━━\u001b[0m \u001b[32m462.3/462.3 KB\u001b[0m \u001b[31m42.3 MB/s\u001b[0m eta \u001b[36m0:00:00\u001b[0m\n",
            "\u001b[2K     \u001b[90m━━━━━━━━━━━━━━━━━━━━━━━━━━━━━━━━━━━━━━━━\u001b[0m \u001b[32m42.6/42.6 KB\u001b[0m \u001b[31m5.7 MB/s\u001b[0m eta \u001b[36m0:00:00\u001b[0m\n",
            "\u001b[2K     \u001b[90m━━━━━━━━━━━━━━━━━━━━━━━━━━━━━━━━━━━━━━━━\u001b[0m \u001b[32m1.4/1.4 MB\u001b[0m \u001b[31m75.1 MB/s\u001b[0m eta \u001b[36m0:00:00\u001b[0m\n",
            "\u001b[2K     \u001b[90m━━━━━━━━━━━━━━━━━━━━━━━━━━━━━━━━━━━━━━━━\u001b[0m \u001b[32m5.8/5.8 MB\u001b[0m \u001b[31m85.3 MB/s\u001b[0m eta \u001b[36m0:00:00\u001b[0m\n",
            "\u001b[2K     \u001b[90m━━━━━━━━━━━━━━━━━━━━━━━━━━━━━━━━━━━━━━━━\u001b[0m \u001b[32m40.9/40.9 KB\u001b[0m \u001b[31m5.3 MB/s\u001b[0m eta \u001b[36m0:00:00\u001b[0m\n",
            "\u001b[2K     \u001b[90m━━━━━━━━━━━━━━━━━━━━━━━━━━━━━━━━━━━━━━\u001b[0m \u001b[32m222.4/222.4 KB\u001b[0m \u001b[31m28.7 MB/s\u001b[0m eta \u001b[36m0:00:00\u001b[0m\n",
            "\u001b[?25h  Building wheel for fire (setup.py) ... \u001b[?25l\u001b[?25hdone\n",
            "\u001b[31mERROR: pip's dependency resolver does not currently take into account all the packages that are installed. This behaviour is the source of the following dependency conflicts.\n",
            "xarray 2022.12.0 requires packaging>=21.3, but you have packaging 20.9 which is incompatible.\u001b[0m\u001b[31m\n",
            "\u001b[0m"
          ]
        }
      ],
      "source": [
        "!pip install packaging>=21.3\n",
        "!pip install -q tflite-model-maker\n",
        "!pip install -q tflite-support"
      ]
    },
    {
      "cell_type": "code",
      "execution_count": 2,
      "metadata": {
        "id": "8w9H4hkb0yQJ",
        "colab": {
          "base_uri": "https://localhost:8080/"
        },
        "outputId": "8b1d75d2-2c26-4734-a2fe-6061b06196a9"
      },
      "outputs": [
        {
          "output_type": "stream",
          "name": "stderr",
          "text": [
            "/usr/local/lib/python3.8/dist-packages/tensorflow_addons/utils/ensure_tf_install.py:53: UserWarning: Tensorflow Addons supports using Python ops for all Tensorflow versions above or equal to 2.9.0 and strictly below 2.12.0 (nightly versions are not supported). \n",
            " The versions of TensorFlow you are currently using is 2.8.4 and is not supported. \n",
            "Some things might work, some things might not.\n",
            "If you were to encounter a bug, do not file an issue.\n",
            "If you want to make sure you're using a tested and supported configuration, either change the TensorFlow version or the TensorFlow Addons's version. \n",
            "You can find the compatibility matrix in TensorFlow Addon's readme:\n",
            "https://github.com/tensorflow/addons\n",
            "  warnings.warn(\n"
          ]
        }
      ],
      "source": [
        "import numpy as np\n",
        "import os\n",
        "import cv2\n",
        "\n",
        "from tflite_model_maker.config import ExportFormat, QuantizationConfig\n",
        "from tflite_model_maker import model_spec\n",
        "from tflite_model_maker import object_detector\n",
        "\n",
        "from tflite_support import metadata\n",
        "\n",
        "import tensorflow as tf\n",
        "assert tf.__version__.startswith('2')\n",
        "\n",
        "tf.get_logger().setLevel('ERROR')\n",
        "from absl import logging\n",
        "logging.set_verbosity(logging.ERROR)"
      ]
    },
    {
      "cell_type": "code",
      "execution_count": null,
      "metadata": {
        "colab": {
          "base_uri": "https://localhost:8080/"
        },
        "id": "5z2geqy-Cguu",
        "outputId": "1b0ab5e1-d0d8-4048-d30a-1af6baca6336"
      },
      "outputs": [
        {
          "output_type": "stream",
          "name": "stdout",
          "text": [
            "--2023-02-27 10:53:34--  https://drive.google.com/uc?id=1pUvnDdG9LD4lWa3fQ6ZLBn4AdCGOVm7p&confirm=T\n",
            "Resolving drive.google.com (drive.google.com)... 142.250.101.113, 142.250.101.101, 142.250.101.102, ...\n",
            "Connecting to drive.google.com (drive.google.com)|142.250.101.113|:443... connected.\n",
            "HTTP request sent, awaiting response... 303 See Other\n",
            "Location: https://doc-0g-7c-docs.googleusercontent.com/docs/securesc/ha0ro937gcuc7l7deffksulhg5h7mbp1/i34fc275p3uale5sc7dec6sr61dsu632/1677495150000/16055085176663448820/*/1pUvnDdG9LD4lWa3fQ6ZLBn4AdCGOVm7p?uuid=af3b1f8e-6b76-451d-9bee-16f95ea3e99d [following]\n",
            "Warning: wildcards not supported in HTTP.\n",
            "--2023-02-27 10:53:42--  https://doc-0g-7c-docs.googleusercontent.com/docs/securesc/ha0ro937gcuc7l7deffksulhg5h7mbp1/i34fc275p3uale5sc7dec6sr61dsu632/1677495150000/16055085176663448820/*/1pUvnDdG9LD4lWa3fQ6ZLBn4AdCGOVm7p?uuid=af3b1f8e-6b76-451d-9bee-16f95ea3e99d\n",
            "Resolving doc-0g-7c-docs.googleusercontent.com (doc-0g-7c-docs.googleusercontent.com)... 142.250.141.132, 2607:f8b0:4023:c0b::84\n",
            "Connecting to doc-0g-7c-docs.googleusercontent.com (doc-0g-7c-docs.googleusercontent.com)|142.250.141.132|:443... connected.\n",
            "HTTP request sent, awaiting response... 200 OK\n",
            "Length: 2585031 (2.5M) [application/zip]\n",
            "Saving to: ‘font-detection.zip’\n",
            "\n",
            "font-detection.zip  100%[===================>]   2.46M  --.-KB/s    in 0.01s   \n",
            "\n",
            "2023-02-27 10:53:42 (214 MB/s) - ‘font-detection.zip’ saved [2585031/2585031]\n",
            "\n"
          ]
        }
      ],
      "source": [
        "!wget 'https://drive.google.com/uc?id=1pUvnDdG9LD4lWa3fQ6ZLBn4AdCGOVm7p&confirm=T' -O font-detection.zip"
      ]
    },
    {
      "cell_type": "code",
      "execution_count": null,
      "metadata": {
        "id": "xUEJHEaBHFQK"
      },
      "outputs": [],
      "source": [
        "!unzip -q /content/font-detection.zip"
      ]
    },
    {
      "cell_type": "code",
      "execution_count": null,
      "metadata": {
        "id": "D2RvuONbIqc-"
      },
      "outputs": [],
      "source": [
        "train_data = object_detector.DataLoader.from_pascal_voc(\n",
        "    '/content/font-detection/train',\n",
        "    '/content/font-detection/train',\n",
        "    ['one', 'two', 'three', 'four', 'five', 'six', 'seven','eight', 'nine', 'zero','dot']\n",
        ")\n",
        "\n",
        "val_data = object_detector.DataLoader.from_pascal_voc(\n",
        "    '/content/font-detection/validate',\n",
        "    '/content/font-detection/validate',\n",
        "    ['one', 'two', 'three', 'four', 'five', 'six', 'seven','eight', 'nine', 'zero','dot']\n",
        ")"
      ]
    },
    {
      "cell_type": "markdown",
      "metadata": {
        "id": "ZMigeBmukor6"
      },
      "source": []
    },
    {
      "cell_type": "code",
      "execution_count": null,
      "metadata": {
        "id": "VqnWFRtzPCxp"
      },
      "outputs": [],
      "source": [
        "spec = model_spec.get('efficientdet_lite0')"
      ]
    },
    {
      "cell_type": "code",
      "execution_count": null,
      "metadata": {
        "colab": {
          "background_save": true,
          "base_uri": "https://localhost:8080/"
        },
        "id": "6-Fby9KVPHac",
        "outputId": "32c0729c-3507-444f-d25c-2a31bc43eaa0"
      },
      "outputs": [
        {
          "name": "stdout",
          "output_type": "stream",
          "text": [
            "Epoch 1/50\n",
            "170/170 [==============================] - 75s 188ms/step - det_loss: 1.3043 - cls_loss: 1.0578 - box_loss: 0.0049 - reg_l2_loss: 0.0646 - loss: 1.3690 - learning_rate: 0.0065 - gradient_norm: 2.5860 - val_det_loss: 1.0044 - val_cls_loss: 0.8456 - val_box_loss: 0.0032 - val_reg_l2_loss: 0.0647 - val_loss: 1.0691\n",
            "Epoch 2/50\n",
            "170/170 [==============================] - 29s 170ms/step - det_loss: 0.8152 - cls_loss: 0.7550 - box_loss: 0.0012 - reg_l2_loss: 0.0647 - loss: 0.8799 - learning_rate: 0.0050 - gradient_norm: 2.6855 - val_det_loss: 0.7975 - val_cls_loss: 0.6629 - val_box_loss: 0.0027 - val_reg_l2_loss: 0.0648 - val_loss: 0.8623\n",
            "Epoch 3/50\n",
            "170/170 [==============================] - 31s 184ms/step - det_loss: 0.6273 - cls_loss: 0.5829 - box_loss: 8.8799e-04 - reg_l2_loss: 0.0648 - loss: 0.6921 - learning_rate: 0.0050 - gradient_norm: 2.4087 - val_det_loss: 0.6842 - val_cls_loss: 0.5865 - val_box_loss: 0.0020 - val_reg_l2_loss: 0.0648 - val_loss: 0.7490\n",
            "Epoch 4/50\n",
            "170/170 [==============================] - 29s 173ms/step - det_loss: 0.5212 - cls_loss: 0.4891 - box_loss: 6.4307e-04 - reg_l2_loss: 0.0649 - loss: 0.5861 - learning_rate: 0.0049 - gradient_norm: 2.5129 - val_det_loss: 0.5843 - val_cls_loss: 0.5322 - val_box_loss: 0.0010 - val_reg_l2_loss: 0.0649 - val_loss: 0.6492\n",
            "Epoch 5/50\n",
            "170/170 [==============================] - 36s 213ms/step - det_loss: 0.4616 - cls_loss: 0.4320 - box_loss: 5.9198e-04 - reg_l2_loss: 0.0649 - loss: 0.5265 - learning_rate: 0.0049 - gradient_norm: 2.4369 - val_det_loss: 0.5969 - val_cls_loss: 0.5423 - val_box_loss: 0.0011 - val_reg_l2_loss: 0.0649 - val_loss: 0.6618\n",
            "Epoch 6/50\n",
            "170/170 [==============================] - 29s 172ms/step - det_loss: 0.4330 - cls_loss: 0.4066 - box_loss: 5.2931e-04 - reg_l2_loss: 0.0649 - loss: 0.4980 - learning_rate: 0.0048 - gradient_norm: 2.5863 - val_det_loss: 0.5813 - val_cls_loss: 0.5224 - val_box_loss: 0.0012 - val_reg_l2_loss: 0.0650 - val_loss: 0.6462\n",
            "Epoch 7/50\n",
            "170/170 [==============================] - 29s 170ms/step - det_loss: 0.3938 - cls_loss: 0.3734 - box_loss: 4.0927e-04 - reg_l2_loss: 0.0650 - loss: 0.4588 - learning_rate: 0.0048 - gradient_norm: 2.3642 - val_det_loss: 0.4952 - val_cls_loss: 0.4392 - val_box_loss: 0.0011 - val_reg_l2_loss: 0.0650 - val_loss: 0.5602\n",
            "Epoch 8/50\n",
            "170/170 [==============================] - 30s 175ms/step - det_loss: 0.3824 - cls_loss: 0.3534 - box_loss: 5.7891e-04 - reg_l2_loss: 0.0650 - loss: 0.4474 - learning_rate: 0.0047 - gradient_norm: 2.4739 - val_det_loss: 0.4509 - val_cls_loss: 0.4164 - val_box_loss: 6.8924e-04 - val_reg_l2_loss: 0.0650 - val_loss: 0.5159\n",
            "Epoch 9/50\n",
            "170/170 [==============================] - 30s 174ms/step - det_loss: 0.3438 - cls_loss: 0.3233 - box_loss: 4.1011e-04 - reg_l2_loss: 0.0651 - loss: 0.4088 - learning_rate: 0.0046 - gradient_norm: 2.4438 - val_det_loss: 0.4293 - val_cls_loss: 0.3953 - val_box_loss: 6.7939e-04 - val_reg_l2_loss: 0.0651 - val_loss: 0.4943\n",
            "Epoch 10/50\n",
            "170/170 [==============================] - 33s 195ms/step - det_loss: 0.3374 - cls_loss: 0.3174 - box_loss: 4.0013e-04 - reg_l2_loss: 0.0651 - loss: 0.4025 - learning_rate: 0.0046 - gradient_norm: 2.5422 - val_det_loss: 0.3377 - val_cls_loss: 0.3049 - val_box_loss: 6.5482e-04 - val_reg_l2_loss: 0.0651 - val_loss: 0.4028\n",
            "Epoch 11/50\n",
            "170/170 [==============================] - 29s 168ms/step - det_loss: 0.3085 - cls_loss: 0.2884 - box_loss: 4.0240e-04 - reg_l2_loss: 0.0651 - loss: 0.3737 - learning_rate: 0.0045 - gradient_norm: 2.4774 - val_det_loss: 0.3877 - val_cls_loss: 0.3499 - val_box_loss: 7.5482e-04 - val_reg_l2_loss: 0.0651 - val_loss: 0.4528\n",
            "Epoch 12/50\n",
            "170/170 [==============================] - 29s 171ms/step - det_loss: 0.2961 - cls_loss: 0.2776 - box_loss: 3.7027e-04 - reg_l2_loss: 0.0652 - loss: 0.3613 - learning_rate: 0.0044 - gradient_norm: 2.3593 - val_det_loss: 0.3541 - val_cls_loss: 0.3183 - val_box_loss: 7.1758e-04 - val_reg_l2_loss: 0.0652 - val_loss: 0.4193\n",
            "Epoch 13/50\n",
            "170/170 [==============================] - 29s 171ms/step - det_loss: 0.2688 - cls_loss: 0.2538 - box_loss: 2.9890e-04 - reg_l2_loss: 0.0652 - loss: 0.3339 - learning_rate: 0.0042 - gradient_norm: 2.2848 - val_det_loss: 0.2953 - val_cls_loss: 0.2623 - val_box_loss: 6.5992e-04 - val_reg_l2_loss: 0.0652 - val_loss: 0.3604\n",
            "Epoch 14/50\n",
            "170/170 [==============================] - 29s 170ms/step - det_loss: 0.2636 - cls_loss: 0.2443 - box_loss: 3.8562e-04 - reg_l2_loss: 0.0652 - loss: 0.3288 - learning_rate: 0.0041 - gradient_norm: 2.3969 - val_det_loss: 0.2931 - val_cls_loss: 0.2533 - val_box_loss: 7.9597e-04 - val_reg_l2_loss: 0.0652 - val_loss: 0.3583\n",
            "Epoch 15/50\n",
            "170/170 [==============================] - 29s 172ms/step - det_loss: 0.2456 - cls_loss: 0.2300 - box_loss: 3.1115e-04 - reg_l2_loss: 0.0652 - loss: 0.3108 - learning_rate: 0.0040 - gradient_norm: 2.3812 - val_det_loss: 0.2727 - val_cls_loss: 0.2385 - val_box_loss: 6.8344e-04 - val_reg_l2_loss: 0.0652 - val_loss: 0.3379\n",
            "Epoch 16/50\n",
            "170/170 [==============================] - 30s 175ms/step - det_loss: 0.2433 - cls_loss: 0.2272 - box_loss: 3.2169e-04 - reg_l2_loss: 0.0653 - loss: 0.3085 - learning_rate: 0.0039 - gradient_norm: 2.4979 - val_det_loss: 0.2484 - val_cls_loss: 0.2202 - val_box_loss: 5.6514e-04 - val_reg_l2_loss: 0.0653 - val_loss: 0.3137\n",
            "Epoch 17/50\n",
            "170/170 [==============================] - 29s 170ms/step - det_loss: 0.2309 - cls_loss: 0.2152 - box_loss: 3.1367e-04 - reg_l2_loss: 0.0653 - loss: 0.2962 - learning_rate: 0.0037 - gradient_norm: 2.4401 - val_det_loss: 0.2739 - val_cls_loss: 0.2293 - val_box_loss: 8.9143e-04 - val_reg_l2_loss: 0.0653 - val_loss: 0.3391\n",
            "Epoch 18/50\n",
            "170/170 [==============================] - 31s 183ms/step - det_loss: 0.2253 - cls_loss: 0.2099 - box_loss: 3.0749e-04 - reg_l2_loss: 0.0653 - loss: 0.2906 - learning_rate: 0.0036 - gradient_norm: 2.2945 - val_det_loss: 0.3541 - val_cls_loss: 0.2958 - val_box_loss: 0.0012 - val_reg_l2_loss: 0.0653 - val_loss: 0.4194\n",
            "Epoch 19/50\n",
            "170/170 [==============================] - 28s 165ms/step - det_loss: 0.2151 - cls_loss: 0.2002 - box_loss: 2.9844e-04 - reg_l2_loss: 0.0653 - loss: 0.2804 - learning_rate: 0.0034 - gradient_norm: 2.2620 - val_det_loss: 0.3596 - val_cls_loss: 0.2359 - val_box_loss: 0.0025 - val_reg_l2_loss: 0.0653 - val_loss: 0.4249\n",
            "Epoch 20/50\n",
            "170/170 [==============================] - 30s 174ms/step - det_loss: 0.2061 - cls_loss: 0.1951 - box_loss: 2.2095e-04 - reg_l2_loss: 0.0653 - loss: 0.2714 - learning_rate: 0.0033 - gradient_norm: 2.1572 - val_det_loss: 0.2159 - val_cls_loss: 0.1888 - val_box_loss: 5.4157e-04 - val_reg_l2_loss: 0.0653 - val_loss: 0.2812\n",
            "Epoch 21/50\n",
            "170/170 [==============================] - 28s 167ms/step - det_loss: 0.1958 - cls_loss: 0.1831 - box_loss: 2.5261e-04 - reg_l2_loss: 0.0653 - loss: 0.2611 - learning_rate: 0.0031 - gradient_norm: 2.1944 - val_det_loss: 0.2397 - val_cls_loss: 0.2013 - val_box_loss: 7.6862e-04 - val_reg_l2_loss: 0.0653 - val_loss: 0.3050\n",
            "Epoch 22/50\n",
            "170/170 [==============================] - 28s 167ms/step - det_loss: 0.1989 - cls_loss: 0.1845 - box_loss: 2.8733e-04 - reg_l2_loss: 0.0653 - loss: 0.2642 - learning_rate: 0.0030 - gradient_norm: 2.2879 - val_det_loss: 0.2644 - val_cls_loss: 0.2287 - val_box_loss: 7.1507e-04 - val_reg_l2_loss: 0.0653 - val_loss: 0.3298\n",
            "Epoch 23/50\n",
            "170/170 [==============================] - 29s 169ms/step - det_loss: 0.1917 - cls_loss: 0.1793 - box_loss: 2.4893e-04 - reg_l2_loss: 0.0653 - loss: 0.2571 - learning_rate: 0.0028 - gradient_norm: 2.1518 - val_det_loss: 0.2013 - val_cls_loss: 0.1729 - val_box_loss: 5.6961e-04 - val_reg_l2_loss: 0.0653 - val_loss: 0.2667\n",
            "Epoch 24/50\n",
            "170/170 [==============================] - 28s 168ms/step - det_loss: 0.1803 - cls_loss: 0.1656 - box_loss: 2.9332e-04 - reg_l2_loss: 0.0653 - loss: 0.2456 - learning_rate: 0.0027 - gradient_norm: 2.1073 - val_det_loss: 0.1976 - val_cls_loss: 0.1704 - val_box_loss: 5.4505e-04 - val_reg_l2_loss: 0.0653 - val_loss: 0.2630\n",
            "Epoch 25/50\n",
            "170/170 [==============================] - 29s 172ms/step - det_loss: 0.1849 - cls_loss: 0.1729 - box_loss: 2.3916e-04 - reg_l2_loss: 0.0653 - loss: 0.2502 - learning_rate: 0.0025 - gradient_norm: 2.2601 - val_det_loss: 0.1872 - val_cls_loss: 0.1603 - val_box_loss: 5.3958e-04 - val_reg_l2_loss: 0.0653 - val_loss: 0.2526\n",
            "Epoch 26/50\n",
            "170/170 [==============================] - 30s 175ms/step - det_loss: 0.1636 - cls_loss: 0.1540 - box_loss: 1.9141e-04 - reg_l2_loss: 0.0653 - loss: 0.2289 - learning_rate: 0.0023 - gradient_norm: 2.1015 - val_det_loss: 0.1788 - val_cls_loss: 0.1581 - val_box_loss: 4.1447e-04 - val_reg_l2_loss: 0.0653 - val_loss: 0.2442\n",
            "Epoch 27/50\n",
            "170/170 [==============================] - 28s 167ms/step - det_loss: 0.1679 - cls_loss: 0.1561 - box_loss: 2.3518e-04 - reg_l2_loss: 0.0653 - loss: 0.2332 - learning_rate: 0.0022 - gradient_norm: 2.3428 - val_det_loss: 0.1618 - val_cls_loss: 0.1380 - val_box_loss: 4.7539e-04 - val_reg_l2_loss: 0.0653 - val_loss: 0.2271\n",
            "Epoch 28/50\n",
            "170/170 [==============================] - 29s 169ms/step - det_loss: 0.1587 - cls_loss: 0.1473 - box_loss: 2.2835e-04 - reg_l2_loss: 0.0653 - loss: 0.2240 - learning_rate: 0.0020 - gradient_norm: 2.1699 - val_det_loss: 0.1979 - val_cls_loss: 0.1655 - val_box_loss: 6.4770e-04 - val_reg_l2_loss: 0.0653 - val_loss: 0.2633\n",
            "Epoch 29/50\n",
            "170/170 [==============================] - 29s 173ms/step - det_loss: 0.1556 - cls_loss: 0.1441 - box_loss: 2.3067e-04 - reg_l2_loss: 0.0653 - loss: 0.2209 - learning_rate: 0.0019 - gradient_norm: 2.2103 - val_det_loss: 0.1609 - val_cls_loss: 0.1386 - val_box_loss: 4.4564e-04 - val_reg_l2_loss: 0.0653 - val_loss: 0.2262\n",
            "Epoch 30/50\n",
            "170/170 [==============================] - 30s 177ms/step - det_loss: 0.1495 - cls_loss: 0.1383 - box_loss: 2.2494e-04 - reg_l2_loss: 0.0653 - loss: 0.2149 - learning_rate: 0.0017 - gradient_norm: 2.1892 - val_det_loss: 0.1502 - val_cls_loss: 0.1291 - val_box_loss: 4.2232e-04 - val_reg_l2_loss: 0.0653 - val_loss: 0.2156\n",
            "Epoch 31/50\n",
            "170/170 [==============================] - 27s 161ms/step - det_loss: 0.1530 - cls_loss: 0.1415 - box_loss: 2.3024e-04 - reg_l2_loss: 0.0653 - loss: 0.2184 - learning_rate: 0.0016 - gradient_norm: 2.3992 - val_det_loss: 0.1342 - val_cls_loss: 0.1168 - val_box_loss: 3.4704e-04 - val_reg_l2_loss: 0.0653 - val_loss: 0.1995\n",
            "Epoch 32/50\n",
            "170/170 [==============================] - 28s 167ms/step - det_loss: 0.1512 - cls_loss: 0.1400 - box_loss: 2.2505e-04 - reg_l2_loss: 0.0653 - loss: 0.2166 - learning_rate: 0.0014 - gradient_norm: 2.4496 - val_det_loss: 0.1425 - val_cls_loss: 0.1200 - val_box_loss: 4.5079e-04 - val_reg_l2_loss: 0.0653 - val_loss: 0.2079\n",
            "Epoch 33/50\n",
            "170/170 [==============================] - 29s 173ms/step - det_loss: 0.1570 - cls_loss: 0.1475 - box_loss: 1.9079e-04 - reg_l2_loss: 0.0653 - loss: 0.2224 - learning_rate: 0.0013 - gradient_norm: 2.7843 - val_det_loss: 0.1472 - val_cls_loss: 0.1231 - val_box_loss: 4.8258e-04 - val_reg_l2_loss: 0.0653 - val_loss: 0.2126\n",
            "Epoch 34/50\n",
            "170/170 [==============================] - 30s 175ms/step - det_loss: 0.1407 - cls_loss: 0.1293 - box_loss: 2.2798e-04 - reg_l2_loss: 0.0653 - loss: 0.2060 - learning_rate: 0.0011 - gradient_norm: 2.2863 - val_det_loss: 0.1324 - val_cls_loss: 0.1148 - val_box_loss: 3.5217e-04 - val_reg_l2_loss: 0.0653 - val_loss: 0.1977\n",
            "Epoch 35/50\n",
            "170/170 [==============================] - 30s 178ms/step - det_loss: 0.1346 - cls_loss: 0.1228 - box_loss: 2.3744e-04 - reg_l2_loss: 0.0653 - loss: 0.2000 - learning_rate: 0.0010 - gradient_norm: 2.0844 - val_det_loss: 0.1299 - val_cls_loss: 0.1096 - val_box_loss: 4.0543e-04 - val_reg_l2_loss: 0.0653 - val_loss: 0.1952\n",
            "Epoch 36/50\n",
            "170/170 [==============================] - 29s 170ms/step - det_loss: 0.1360 - cls_loss: 0.1223 - box_loss: 2.7213e-04 - reg_l2_loss: 0.0653 - loss: 0.2013 - learning_rate: 8.7971e-04 - gradient_norm: 2.2567 - val_det_loss: 0.1186 - val_cls_loss: 0.1008 - val_box_loss: 3.5658e-04 - val_reg_l2_loss: 0.0653 - val_loss: 0.1840\n",
            "Epoch 37/50\n",
            "170/170 [==============================] - 28s 166ms/step - det_loss: 0.1341 - cls_loss: 0.1243 - box_loss: 1.9503e-04 - reg_l2_loss: 0.0653 - loss: 0.1994 - learning_rate: 7.6110e-04 - gradient_norm: 2.1623 - val_det_loss: 0.1208 - val_cls_loss: 0.1021 - val_box_loss: 3.7395e-04 - val_reg_l2_loss: 0.0653 - val_loss: 0.1862\n",
            "Epoch 38/50\n",
            "170/170 [==============================] - 28s 165ms/step - det_loss: 0.1323 - cls_loss: 0.1229 - box_loss: 1.8653e-04 - reg_l2_loss: 0.0653 - loss: 0.1976 - learning_rate: 6.4963e-04 - gradient_norm: 2.3980 - val_det_loss: 0.1250 - val_cls_loss: 0.1065 - val_box_loss: 3.7015e-04 - val_reg_l2_loss: 0.0653 - val_loss: 0.1903\n",
            "Epoch 39/50\n",
            "170/170 [==============================] - 28s 167ms/step - det_loss: 0.1252 - cls_loss: 0.1155 - box_loss: 1.9527e-04 - reg_l2_loss: 0.0653 - loss: 0.1906 - learning_rate: 5.4576e-04 - gradient_norm: 2.1916 - val_det_loss: 0.1192 - val_cls_loss: 0.1007 - val_box_loss: 3.6930e-04 - val_reg_l2_loss: 0.0653 - val_loss: 0.1845\n",
            "Epoch 40/50\n",
            "106/170 [=================>............] - ETA: 9s - det_loss: 0.1260 - cls_loss: 0.1156 - box_loss: 2.0768e-04 - reg_l2_loss: 0.0653 - loss: 0.1913 - learning_rate: 4.6739e-04 - gradient_norm: 2.1746"
          ]
        }
      ],
      "source": [
        "model = object_detector.create(train_data, model_spec=spec, batch_size=4, train_whole_model=True, epochs=50, validation_data=val_data)"
      ]
    },
    {
      "cell_type": "code",
      "execution_count": null,
      "metadata": {
        "colab": {
          "base_uri": "https://localhost:8080/"
        },
        "id": "_eyR7JwYQGqV",
        "outputId": "43a31c01-af5e-4a14-9565-11e224d40ee5"
      },
      "outputs": [
        {
          "name": "stdout",
          "output_type": "stream",
          "text": [
            "\r1/1 [==============================] - 9s 9s/step\n",
            "\n"
          ]
        },
        {
          "data": {
            "text/plain": [
              "{'AP': 0.76562804,\n",
              " 'AP50': 0.88237274,\n",
              " 'AP75': 0.86190045,\n",
              " 'APs': 0.040346533,\n",
              " 'APm': 0.887479,\n",
              " 'APl': -1.0,\n",
              " 'ARmax1': 0.68666667,\n",
              " 'ARmax10': 0.79295456,\n",
              " 'ARmax100': 0.79295456,\n",
              " 'ARs': 0.1,\n",
              " 'ARm': 0.91225,\n",
              " 'ARl': -1.0,\n",
              " 'AP_/one': 0.554646,\n",
              " 'AP_/two': 0.93026876,\n",
              " 'AP_/three': 0.7836634,\n",
              " 'AP_/four': 0.95049506,\n",
              " 'AP_/five': 0.93807167,\n",
              " 'AP_/six': 0.870077,\n",
              " 'AP_/seven': 0.8310231,\n",
              " 'AP_/eight': 0.9067327,\n",
              " 'AP_/nine': 0.9316832,\n",
              " 'AP_/zero': 0.7252475,\n",
              " 'AP_/dot': 0.0}"
            ]
          },
          "execution_count": 9,
          "metadata": {},
          "output_type": "execute_result"
        }
      ],
      "source": [
        "model.evaluate(val_data)"
      ]
    },
    {
      "cell_type": "code",
      "execution_count": null,
      "metadata": {
        "id": "O3kOVAcxQS7-"
      },
      "outputs": [],
      "source": [
        "model.export(export_dir='.', tflite_filename='font-detection.tflite')"
      ]
    },
    {
      "cell_type": "code",
      "execution_count": null,
      "metadata": {
        "colab": {
          "base_uri": "https://localhost:8080/",
          "height": 165
        },
        "id": "fWHoJrskQmv0",
        "outputId": "ecc2b65b-f310-4fcb-faaa-15e4703aba67"
      },
      "outputs": [
        {
          "output_type": "error",
          "ename": "NameError",
          "evalue": "ignored",
          "traceback": [
            "\u001b[0;31m---------------------------------------------------------------------------\u001b[0m",
            "\u001b[0;31mNameError\u001b[0m                                 Traceback (most recent call last)",
            "\u001b[0;32m<ipython-input-10-438bd522c8f5>\u001b[0m in \u001b[0;36m<module>\u001b[0;34m\u001b[0m\n\u001b[0;32m----> 1\u001b[0;31m \u001b[0mmodel\u001b[0m\u001b[0;34m.\u001b[0m\u001b[0mevaluate_tflite\u001b[0m\u001b[0;34m(\u001b[0m\u001b[0;34m'font-detection.tflite'\u001b[0m\u001b[0;34m,\u001b[0m \u001b[0mval_data\u001b[0m\u001b[0;34m)\u001b[0m\u001b[0;34m\u001b[0m\u001b[0;34m\u001b[0m\u001b[0m\n\u001b[0m",
            "\u001b[0;31mNameError\u001b[0m: name 'model' is not defined"
          ]
        }
      ],
      "source": [
        "model.evaluate_tflite('font-detection.tflite', val_data)"
      ]
    },
    {
      "cell_type": "code",
      "execution_count": null,
      "metadata": {
        "colab": {
          "base_uri": "https://localhost:8080/",
          "height": 17
        },
        "id": "ZOCi1LwCQpUN",
        "outputId": "952aa6c3-22e8-4c1d-f4a2-84438430e7f0"
      },
      "outputs": [
        {
          "output_type": "display_data",
          "data": {
            "text/plain": [
              "<IPython.core.display.Javascript object>"
            ],
            "application/javascript": [
              "\n",
              "    async function download(id, filename, size) {\n",
              "      if (!google.colab.kernel.accessAllowed) {\n",
              "        return;\n",
              "      }\n",
              "      const div = document.createElement('div');\n",
              "      const label = document.createElement('label');\n",
              "      label.textContent = `Downloading \"${filename}\": `;\n",
              "      div.appendChild(label);\n",
              "      const progress = document.createElement('progress');\n",
              "      progress.max = size;\n",
              "      div.appendChild(progress);\n",
              "      document.body.appendChild(div);\n",
              "\n",
              "      const buffers = [];\n",
              "      let downloaded = 0;\n",
              "\n",
              "      const channel = await google.colab.kernel.comms.open(id);\n",
              "      // Send a message to notify the kernel that we're ready.\n",
              "      channel.send({})\n",
              "\n",
              "      for await (const message of channel.messages) {\n",
              "        // Send a message to notify the kernel that we're ready.\n",
              "        channel.send({})\n",
              "        if (message.buffers) {\n",
              "          for (const buffer of message.buffers) {\n",
              "            buffers.push(buffer);\n",
              "            downloaded += buffer.byteLength;\n",
              "            progress.value = downloaded;\n",
              "          }\n",
              "        }\n",
              "      }\n",
              "      const blob = new Blob(buffers, {type: 'application/binary'});\n",
              "      const a = document.createElement('a');\n",
              "      a.href = window.URL.createObjectURL(blob);\n",
              "      a.download = filename;\n",
              "      div.appendChild(a);\n",
              "      a.click();\n",
              "      div.remove();\n",
              "    }\n",
              "  "
            ]
          },
          "metadata": {}
        },
        {
          "output_type": "display_data",
          "data": {
            "text/plain": [
              "<IPython.core.display.Javascript object>"
            ],
            "application/javascript": [
              "download(\"download_57c859c3-e108-408e-a10e-43018b65161b\", \"font-detection.tflite\", 4457368)"
            ]
          },
          "metadata": {}
        }
      ],
      "source": [
        "from google.colab import files\n",
        "files.download('font-detection.tflite')"
      ]
    },
    {
      "cell_type": "code",
      "execution_count": 3,
      "metadata": {
        "cellView": "form",
        "id": "8aFY_pqJRHNR"
      },
      "outputs": [],
      "source": [
        "#@title Load the trained TFLite model and define some visualization functions\n",
        "\n",
        "#@markdown This code comes from the TFLite Object Detection [Raspberry Pi sample](https://github.com/tensorflow/examples/tree/master/lite/examples/object_detection/raspberry_pi).\n",
        "\n",
        "import platform\n",
        "from typing import List, NamedTuple\n",
        "import json\n",
        "\n",
        "import cv2\n",
        "\n",
        "Interpreter = tf.lite.Interpreter\n",
        "load_delegate = tf.lite.experimental.load_delegate\n",
        "\n",
        "# pylint: enable=g-import-not-at-top\n",
        "\n",
        "\n",
        "class ObjectDetectorOptions(NamedTuple):\n",
        "  \"\"\"A config to initialize an object detector.\"\"\"\n",
        "\n",
        "  enable_edgetpu: bool = False\n",
        "  \"\"\"Enable the model to run on EdgeTPU.\"\"\"\n",
        "\n",
        "  label_allow_list: List[str] = None\n",
        "  \"\"\"The optional allow list of labels.\"\"\"\n",
        "\n",
        "  label_deny_list: List[str] = None\n",
        "  \"\"\"The optional deny list of labels.\"\"\"\n",
        "\n",
        "  max_results: int = -1\n",
        "  \"\"\"The maximum number of top-scored detection results to return.\"\"\"\n",
        "\n",
        "  num_threads: int = 1\n",
        "  \"\"\"The number of CPU threads to be used.\"\"\"\n",
        "\n",
        "  score_threshold: float = 0.0\n",
        "  \"\"\"The score threshold of detection results to return.\"\"\"\n",
        "\n",
        "\n",
        "class Rect(NamedTuple):\n",
        "  \"\"\"A rectangle in 2D space.\"\"\"\n",
        "  left: float\n",
        "  top: float\n",
        "  right: float\n",
        "  bottom: float\n",
        "\n",
        "\n",
        "class Category(NamedTuple):\n",
        "  \"\"\"A result of a classification task.\"\"\"\n",
        "  label: str\n",
        "  score: float\n",
        "  index: int\n",
        "\n",
        "\n",
        "class Detection(NamedTuple):\n",
        "  \"\"\"A detected object as the result of an ObjectDetector.\"\"\"\n",
        "  bounding_box: Rect\n",
        "  categories: List[Category]\n",
        "\n",
        "\n",
        "def edgetpu_lib_name():\n",
        "  \"\"\"Returns the library name of EdgeTPU in the current platform.\"\"\"\n",
        "  return {\n",
        "      'Darwin': 'libedgetpu.1.dylib',\n",
        "      'Linux': 'libedgetpu.so.1',\n",
        "      'Windows': 'edgetpu.dll',\n",
        "  }.get(platform.system(), None)\n",
        "\n",
        "\n",
        "class ObjectDetector:\n",
        "  \"\"\"A wrapper class for a TFLite object detection model.\"\"\"\n",
        "\n",
        "  _OUTPUT_LOCATION_NAME = 'location'\n",
        "  _OUTPUT_CATEGORY_NAME = 'category'\n",
        "  _OUTPUT_SCORE_NAME = 'score'\n",
        "  _OUTPUT_NUMBER_NAME = 'number of detections'\n",
        "\n",
        "  def __init__(\n",
        "      self,\n",
        "      model_path: str,\n",
        "      options: ObjectDetectorOptions = ObjectDetectorOptions()\n",
        "  ) -> None:\n",
        "    \"\"\"Initialize a TFLite object detection model.\n",
        "    Args:\n",
        "        model_path: Path to the TFLite model.\n",
        "        options: The config to initialize an object detector. (Optional)\n",
        "    Raises:\n",
        "        ValueError: If the TFLite model is invalid.\n",
        "        OSError: If the current OS isn't supported by EdgeTPU.\n",
        "    \"\"\"\n",
        "\n",
        "    # Load metadata from model.\n",
        "    displayer = metadata.MetadataDisplayer.with_model_file(model_path)\n",
        "\n",
        "    # Save model metadata for preprocessing later.\n",
        "    model_metadata = json.loads(displayer.get_metadata_json())\n",
        "    process_units = model_metadata['subgraph_metadata'][0]['input_tensor_metadata'][0]['process_units']\n",
        "    mean = 0.0\n",
        "    std = 1.0\n",
        "    for option in process_units:\n",
        "      if option['options_type'] == 'NormalizationOptions':\n",
        "        mean = option['options']['mean'][0]\n",
        "        std = option['options']['std'][0]\n",
        "    self._mean = mean\n",
        "    self._std = std\n",
        "\n",
        "    # Load label list from metadata.\n",
        "    file_name = displayer.get_packed_associated_file_list()[0]\n",
        "    label_map_file = displayer.get_associated_file_buffer(file_name).decode()\n",
        "    label_list = list(filter(lambda x: len(x) > 0, label_map_file.splitlines()))\n",
        "    self._label_list = label_list\n",
        "\n",
        "    # Initialize TFLite model.\n",
        "    if options.enable_edgetpu:\n",
        "      if edgetpu_lib_name() is None:\n",
        "        raise OSError(\"The current OS isn't supported by Coral EdgeTPU.\")\n",
        "      interpreter = Interpreter(\n",
        "          model_path=model_path,\n",
        "          experimental_delegates=[load_delegate(edgetpu_lib_name())],\n",
        "          num_threads=options.num_threads)\n",
        "    else:\n",
        "      interpreter = Interpreter(\n",
        "          model_path=model_path, num_threads=options.num_threads)\n",
        "\n",
        "    interpreter.allocate_tensors()\n",
        "    input_detail = interpreter.get_input_details()[0]\n",
        "\n",
        "    # From TensorFlow 2.6, the order of the outputs become undefined.\n",
        "    # Therefore we need to sort the tensor indices of TFLite outputs and to know\n",
        "    # exactly the meaning of each output tensor. For example, if\n",
        "    # output indices are [601, 599, 598, 600], tensor names and indices aligned\n",
        "    # are:\n",
        "    #   - location: 598\n",
        "    #   - category: 599\n",
        "    #   - score: 600\n",
        "    #   - detection_count: 601\n",
        "    # because of the op's ports of TFLITE_DETECTION_POST_PROCESS\n",
        "    # (https://github.com/tensorflow/tensorflow/blob/a4fe268ea084e7d323133ed7b986e0ae259a2bc7/tensorflow/lite/kernels/detection_postprocess.cc#L47-L50).\n",
        "    sorted_output_indices = sorted(\n",
        "        [output['index'] for output in interpreter.get_output_details()])\n",
        "    self._output_indices = {\n",
        "        self._OUTPUT_LOCATION_NAME: sorted_output_indices[0],\n",
        "        self._OUTPUT_CATEGORY_NAME: sorted_output_indices[1],\n",
        "        self._OUTPUT_SCORE_NAME: sorted_output_indices[2],\n",
        "        self._OUTPUT_NUMBER_NAME: sorted_output_indices[3],\n",
        "    }\n",
        "\n",
        "    self._input_size = input_detail['shape'][2], input_detail['shape'][1]\n",
        "    self._is_quantized_input = input_detail['dtype'] == np.uint8\n",
        "    self._interpreter = interpreter\n",
        "    self._options = options\n",
        "\n",
        "  def detect(self, input_image: np.ndarray) -> List[Detection]:\n",
        "    \"\"\"Run detection on an input image.\n",
        "    Args:\n",
        "        input_image: A [height, width, 3] RGB image. Note that height and width\n",
        "          can be anything since the image will be immediately resized according\n",
        "          to the needs of the model within this function.\n",
        "    Returns:\n",
        "        A Person instance.\n",
        "    \"\"\"\n",
        "    image_height, image_width, _ = input_image.shape\n",
        "\n",
        "    input_tensor = self._preprocess(input_image)\n",
        "\n",
        "    self._set_input_tensor(input_tensor)\n",
        "    self._interpreter.invoke()\n",
        "\n",
        "    # Get all output details\n",
        "    boxes = self._get_output_tensor(self._OUTPUT_LOCATION_NAME)\n",
        "    classes = self._get_output_tensor(self._OUTPUT_CATEGORY_NAME)\n",
        "    scores = self._get_output_tensor(self._OUTPUT_SCORE_NAME)\n",
        "    count = int(self._get_output_tensor(self._OUTPUT_NUMBER_NAME))\n",
        "\n",
        "    return self._postprocess(boxes, classes, scores, count, image_width,\n",
        "                             image_height)\n",
        "\n",
        "  def _preprocess(self, input_image: np.ndarray) -> np.ndarray:\n",
        "    \"\"\"Preprocess the input image as required by the TFLite model.\"\"\"\n",
        "\n",
        "    # Resize the input\n",
        "    input_tensor = cv2.resize(input_image, self._input_size)\n",
        "\n",
        "    # Normalize the input if it's a float model (aka. not quantized)\n",
        "    if not self._is_quantized_input:\n",
        "      input_tensor = (np.float32(input_tensor) - self._mean) / self._std\n",
        "\n",
        "    # Add batch dimension\n",
        "    input_tensor = np.expand_dims(input_tensor, axis=0)\n",
        "\n",
        "    return input_tensor\n",
        "\n",
        "  def _set_input_tensor(self, image):\n",
        "    \"\"\"Sets the input tensor.\"\"\"\n",
        "    tensor_index = self._interpreter.get_input_details()[0]['index']\n",
        "    input_tensor = self._interpreter.tensor(tensor_index)()[0]\n",
        "    input_tensor[:, :] = image\n",
        "\n",
        "  def _get_output_tensor(self, name):\n",
        "    \"\"\"Returns the output tensor at the given index.\"\"\"\n",
        "    output_index = self._output_indices[name]\n",
        "    tensor = np.squeeze(self._interpreter.get_tensor(output_index))\n",
        "    return tensor\n",
        "\n",
        "  def _postprocess(self, boxes: np.ndarray, classes: np.ndarray,\n",
        "                   scores: np.ndarray, count: int, image_width: int,\n",
        "                   image_height: int) -> List[Detection]:\n",
        "    \"\"\"Post-process the output of TFLite model into a list of Detection objects.\n",
        "    Args:\n",
        "        boxes: Bounding boxes of detected objects from the TFLite model.\n",
        "        classes: Class index of the detected objects from the TFLite model.\n",
        "        scores: Confidence scores of the detected objects from the TFLite model.\n",
        "        count: Number of detected objects from the TFLite model.\n",
        "        image_width: Width of the input image.\n",
        "        image_height: Height of the input image.\n",
        "    Returns:\n",
        "        A list of Detection objects detected by the TFLite model.\n",
        "    \"\"\"\n",
        "    results = []\n",
        "\n",
        "    # Parse the model output into a list of Detection entities.\n",
        "    for i in range(count):\n",
        "      if scores[i] >= self._options.score_threshold:\n",
        "        y_min, x_min, y_max, x_max = boxes[i]\n",
        "        bounding_box = Rect(\n",
        "            top=int(y_min * image_height),\n",
        "            left=int(x_min * image_width),\n",
        "            bottom=int(y_max * image_height),\n",
        "            right=int(x_max * image_width))\n",
        "        class_id = int(classes[i])\n",
        "        category = Category(\n",
        "            score=scores[i],\n",
        "            label=self._label_list[class_id],  # 0 is reserved for background\n",
        "            index=class_id)\n",
        "        result = Detection(bounding_box=bounding_box, categories=[category])\n",
        "        results.append(result)\n",
        "\n",
        "    # Sort detection results by score ascending\n",
        "    sorted_results = sorted(\n",
        "        results,\n",
        "        key=lambda detection: detection.categories[0].score,\n",
        "        reverse=True)\n",
        "\n",
        "    # Filter out detections in deny list\n",
        "    filtered_results = sorted_results\n",
        "    if self._options.label_deny_list is not None:\n",
        "      filtered_results = list(\n",
        "          filter(\n",
        "              lambda detection: detection.categories[0].label not in self.\n",
        "              _options.label_deny_list, filtered_results))\n",
        "\n",
        "    # Keep only detections in allow list\n",
        "    if self._options.label_allow_list is not None:\n",
        "      filtered_results = list(\n",
        "          filter(\n",
        "              lambda detection: detection.categories[0].label in self._options.\n",
        "              label_allow_list, filtered_results))\n",
        "\n",
        "    # Only return maximum of max_results detection.\n",
        "    if self._options.max_results > 0:\n",
        "      result_count = min(len(filtered_results), self._options.max_results)\n",
        "      filtered_results = filtered_results[:result_count]\n",
        "\n",
        "    return filtered_results\n",
        "\n",
        "\n",
        "_MARGIN = 10  # pixels\n",
        "_ROW_SIZE = 10  # pixels\n",
        "_FONT_SIZE = 1\n",
        "_FONT_THICKNESS = 1\n",
        "_TEXT_COLOR = (0, 0, 255)  # red\n",
        "\n",
        "\n",
        "def visualize(\n",
        "    image: np.ndarray,\n",
        "    detections: List[Detection],\n",
        ") -> np.ndarray:\n",
        "  \"\"\"Draws bounding boxes on the input image and return it.\n",
        "  Args:\n",
        "    image: The input RGB image.\n",
        "    detections: The list of all \"Detection\" entities to be visualize.\n",
        "  Returns:\n",
        "    Image with bounding boxes.\n",
        "  \"\"\"\n",
        "  for detection in detections:\n",
        "    # Draw bounding_box\n",
        "    start_point = detection.bounding_box.left, detection.bounding_box.top\n",
        "    end_point = detection.bounding_box.right, detection.bounding_box.bottom\n",
        "    cv2.rectangle(image, start_point, end_point, _TEXT_COLOR, 3)\n",
        "\n",
        "    # Draw label and score\n",
        "    category = detection.categories[0]\n",
        "    class_name = category.label\n",
        "    probability = round(category.score, 2)\n",
        "    result_text = class_name + ' (' + str(probability) + ')'\n",
        "    text_location = (_MARGIN + detection.bounding_box.left,\n",
        "                     _MARGIN + _ROW_SIZE + detection.bounding_box.top)\n",
        "    cv2.putText(image, result_text, text_location, cv2.FONT_HERSHEY_PLAIN,\n",
        "                _FONT_SIZE, _TEXT_COLOR, _FONT_THICKNESS)\n",
        "\n",
        "  return image"
      ]
    },
    {
      "cell_type": "code",
      "execution_count": 5,
      "metadata": {
        "colab": {
          "base_uri": "https://localhost:8080/",
          "height": 490
        },
        "id": "EzwPpjB7Rmlm",
        "outputId": "fd902188-afb1-47f0-890d-de2dbb435cac"
      },
      "outputs": [
        {
          "output_type": "stream",
          "name": "stdout",
          "text": [
            "three\n",
            "[Detection(bounding_box=Rect(left=327, top=35, right=397, bottom=169), categories=[Category(label='three', score=0.90625, index=2)]), Detection(bounding_box=Rect(left=13, top=37, right=90, bottom=166), categories=[Category(label='zero', score=0.90234375, index=9)]), Detection(bounding_box=Rect(left=15, top=35, right=88, bottom=97), categories=[Category(label='zero', score=0.78515625, index=9)]), Detection(bounding_box=Rect(left=11, top=219, right=89, bottom=349), categories=[Category(label='five', score=0.7578125, index=4)]), Detection(bounding_box=Rect(left=221, top=36, right=294, bottom=169), categories=[Category(label='two', score=0.67578125, index=1)]), Detection(bounding_box=Rect(left=216, top=215, right=291, bottom=339), categories=[Category(label='seven', score=0.67578125, index=6)]), Detection(bounding_box=Rect(left=322, top=214, right=393, bottom=276), categories=[Category(label='zero', score=0.5390625, index=9)]), Detection(bounding_box=Rect(left=430, top=44, right=496, bottom=163), categories=[Category(label='four', score=0.5390625, index=3)]), Detection(bounding_box=Rect(left=117, top=220, right=191, bottom=345), categories=[Category(label='six', score=0.48046875, index=5)]), Detection(bounding_box=Rect(left=231, top=214, right=292, bottom=276), categories=[Category(label='zero', score=0.3984375, index=9)]), Detection(bounding_box=Rect(left=327, top=225, right=401, bottom=349), categories=[Category(label='eight', score=0.3984375, index=7)]), Detection(bounding_box=Rect(left=423, top=223, right=497, bottom=342), categories=[Category(label='three', score=0.37890625, index=2)]), Detection(bounding_box=Rect(left=426, top=216, right=494, bottom=273), categories=[Category(label='zero', score=0.359375, index=9)]), Detection(bounding_box=Rect(left=14, top=94, right=81, bottom=169), categories=[Category(label='zero', score=0.32421875, index=9)])]\n",
            "<class '__main__.Category'>\n"
          ]
        },
        {
          "output_type": "execute_result",
          "data": {
            "text/plain": [
              "<PIL.Image.Image image mode=RGB size=512x401 at 0x7EFBEC8CA550>"
            ],
            "image/png": "[encoded data removed]"
          },
          "metadata": {},
          "execution_count": 5
        }
      ],
      "source": [
        "#@title Run object detection and show the detection results\n",
        "\n",
        "from PIL import Image\n",
        "\n",
        "INPUT_IMAGE_URL = \"https://www.shutterstock.com/image-vector/set-green-numbers-on-seven-600w-32701045.jpg\" #@param {type:\"string\"}\n",
        "DETECTION_THRESHOLD = 0.3 #@param {type:\"number\"}\n",
        "TFLITE_MODEL_PATH = \"font-detection.tflite\"\n",
        "\n",
        "TEMP_FILE = '/tmp/image.png'\n",
        "\n",
        "!wget -q -O $TEMP_FILE $INPUT_IMAGE_URL\n",
        "image = Image.open(TEMP_FILE).convert('RGB')\n",
        "image.thumbnail((512, 512), Image.ANTIALIAS)\n",
        "image_np = np.asarray(image)\n",
        "\n",
        "\n",
        "im_in = cv2.cvtColor(image_np, cv2.COLOR_BGR2GRAY);\n",
        "\n",
        "\n",
        "# Threshold.\n",
        "# Set values equal to or above 50 to 0.\n",
        "# Set values below 50 to 255.\n",
        "th, im_th = cv2.threshold(im_in, 50, 255, cv2.THRESH_BINARY_INV);\n",
        "\n",
        "\n",
        "# Copy the thresholded image.\n",
        "im_floodfill = im_th.copy()\n",
        "\n",
        "\n",
        "# Mask used to flood filling.\n",
        "# Notice the size needs to be 2 pixels than the image.\n",
        "h, w = im_th.shape[:2]\n",
        "mask = np.zeros((h + 2, w + 2), np.uint8)\n",
        "\n",
        "\n",
        "# Floodfill from point (0, 0)\n",
        "cv2.floodFill(im_floodfill, mask, (0, 0), 255);\n",
        "\n",
        "\n",
        "# Invert floodfilled image\n",
        "image_np = thresh = cv2.bitwise_not(im_floodfill)\n",
        "\n",
        "# for i in range(len(image_np)):\n",
        "#   for j in range(len(image_np[0])):\n",
        "#     if int(image_np[i][j]) == 0:\n",
        "#       image_np[i][j] = np.uint8(255)\n",
        "#     else:\n",
        "#       image_np[i][j] = np.uint8(0)\n",
        "\n",
        "# black_pix = np.where((image_np == [0, 0, 0]).all(axis=2))\n",
        "# white_pix = np.where((image_np == [255, 255, 255]).all(axis=2))\n",
        "\n",
        "# image_np[black_pix] = [255, 255, 255]\n",
        "# image_np[white_pix] = [0, 0, 0]\n",
        "\n",
        "\n",
        "\n",
        "cv2.imwrite('my_img.jpg', image_np)\n",
        "image = Image.open('/content/my_img.jpg').convert('RGB')\n",
        "image_np = np.asarray(image)\n",
        "\n",
        "# Load the TFLite model\n",
        "options = ObjectDetectorOptions(\n",
        "      num_threads=4,\n",
        "      score_threshold=DETECTION_THRESHOLD,\n",
        ")\n",
        "detector = ObjectDetector(model_path=TFLITE_MODEL_PATH, options=options)\n",
        "\n",
        "# Run object detection estimation using the model.\n",
        "detections = detector.detect(image_np)\n",
        "print(detections[0][1][0].label)\n",
        "print(detections)\n",
        "print(type(detections[0][1][0]))\n",
        "\n",
        "\n",
        "# Draw keypoints and edges on input image\n",
        "image_np = visualize(image_np, detections)\n",
        "\n",
        "# Show the detection result\n",
        "Image.fromarray(image_np)"
      ]
    },
    {
      "cell_type": "code",
      "execution_count": null,
      "metadata": {
        "id": "bw8OW4u1SW-v"
      },
      "outputs": [],
      "source": []
    }
  ],
  "metadata": {
    "accelerator": "GPU",
    "colab": {
      "provenance": [],
      "toc_visible": true
    },
    "gpuClass": "standard",
    "kernelspec": {
      "display_name": "Python 3",
      "name": "python3"
    },
    "language_info": {
      "name": "python"
    }
  },
  "nbformat": 4,
  "nbformat_minor": 0
}